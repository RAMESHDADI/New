{
  "nbformat": 4,
  "nbformat_minor": 0,
  "metadata": {
    "colab": {
      "provenance": []
    },
    "kernelspec": {
      "name": "python3",
      "display_name": "Python 3"
    },
    "language_info": {
      "name": "python"
    }
  },
  "cells": [
    {
      "cell_type": "code",
      "execution_count": null,
      "metadata": {
        "id": "sBlEJ6yRldDO"
      },
      "outputs": [],
      "source": []
    },
    {
      "cell_type": "markdown",
      "source": [
        "# Data Science Tools and Ecosystem\n",
        "In this notebook, Data Science Tools and Ecosystem are summarized"
      ],
      "metadata": {
        "id": "198dgh0bmFCf"
      }
    },
    {
      "cell_type": "code",
      "source": [
        "List=['python','R','Scala',]"
      ],
      "metadata": {
        "id": "M-8rzWGNmTmf"
      },
      "execution_count": null,
      "outputs": []
    },
    {
      "cell_type": "code",
      "source": [
        "list=['numpy','pandas','sci-kit']"
      ],
      "metadata": {
        "id": "ImSdiPummelE"
      },
      "execution_count": null,
      "outputs": []
    },
    {
      "cell_type": "code",
      "source": [],
      "metadata": {
        "id": "Ai8wk-rnmwVF"
      },
      "execution_count": null,
      "outputs": []
    },
    {
      "cell_type": "markdown",
      "source": [
        "Below are a few examples of evaluating arithmetic expressions in Python"
      ],
      "metadata": {
        "id": "2vssAeffmwuM"
      }
    },
    {
      "cell_type": "code",
      "source": [
        "(3*4)+5\n",
        "#This a simple arithmetic expression to mutiply then add integers"
      ],
      "metadata": {
        "colab": {
          "base_uri": "https://localhost:8080/"
        },
        "id": "RW3hN07rmyFl",
        "outputId": "d6073730-0ee2-4f45-c666-12fd7e7cd87a"
      },
      "execution_count": 1,
      "outputs": [
        {
          "output_type": "execute_result",
          "data": {
            "text/plain": [
              "17"
            ]
          },
          "metadata": {},
          "execution_count": 1
        }
      ]
    },
    {
      "cell_type": "code",
      "source": [
        "# This will convert 200 minutes to hours by diving by 60.\n",
        "min=200\n",
        "hr=min/60\n",
        "print(hr)"
      ],
      "metadata": {
        "colab": {
          "base_uri": "https://localhost:8080/"
        },
        "id": "0GqcMFuwm2go",
        "outputId": "5dcc2450-4914-41b5-8850-405977e9ccae"
      },
      "execution_count": 2,
      "outputs": [
        {
          "output_type": "stream",
          "name": "stdout",
          "text": [
            "3.3333333333333335\n"
          ]
        }
      ]
    },
    {
      "cell_type": "code",
      "source": [
        "list=('numpy')"
      ],
      "metadata": {
        "id": "IZii4bEqnIvr"
      },
      "execution_count": 3,
      "outputs": []
    },
    {
      "cell_type": "markdown",
      "source": [
        "Author:RAMESH"
      ],
      "metadata": {
        "id": "pIC28ZwTnTDO"
      }
    },
    {
      "cell_type": "code",
      "source": [],
      "metadata": {
        "id": "9LwnPqvTnSP1"
      },
      "execution_count": null,
      "outputs": []
    }
  ]
}